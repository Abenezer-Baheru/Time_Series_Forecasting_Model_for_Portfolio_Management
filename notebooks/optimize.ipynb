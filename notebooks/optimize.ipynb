{
 "cells": [
  {
   "cell_type": "code",
   "execution_count": 1,
   "metadata": {},
   "outputs": [],
   "source": [
    "# Importing essential libraries\n",
    "import pandas as pd\n",
    "import numpy as np\n",
    "import matplotlib.pyplot as plt\n",
    "from scipy.optimize import minimize\n",
    "from scipy.stats import norm"
   ]
  },
  {
   "cell_type": "markdown",
   "metadata": {},
   "source": [
    "Step 1: Combine Forecasted Data\n",
    "\n",
    "First, merge the forecasted prices for TSLA, BND, and SPY into a single DataFrame."
   ]
  },
  {
   "cell_type": "code",
   "execution_count": 2,
   "metadata": {},
   "outputs": [
    {
     "name": "stdout",
     "output_type": "stream",
     "text": [
      "                 TSLA        BND        SPY\n",
      "2025-01-31  399.90567  71.845270  604.42706\n",
      "2025-02-01  398.99790  71.763230  604.85280\n",
      "2025-02-02  396.88046  71.666916  604.79285\n",
      "2025-02-03  395.39950  71.568820  604.59930\n",
      "2025-02-04  394.69318  71.472310  604.37256\n"
     ]
    }
   ],
   "source": [
    "# Load forecasted data for each asset\n",
    "tsla_forecast = pd.read_csv(\"tsla_forecast.csv\", index_col=0, parse_dates=True)\n",
    "bnd_forecast = pd.read_csv(\"bnd_forecast.csv\", index_col=0, parse_dates=True)\n",
    "spy_forecast = pd.read_csv(\"spy_forecast.csv\", index_col=0, parse_dates=True)\n",
    "\n",
    "# Combine forecasted data into a single DataFrame\n",
    "df = pd.DataFrame({\n",
    "    'TSLA': tsla_forecast['Forecast'],\n",
    "    'BND': bnd_forecast['Forecast'],\n",
    "    'SPY': spy_forecast['Forecast']\n",
    "})\n",
    "\n",
    "# Preview the combined data\n",
    "print(df.head())"
   ]
  },
  {
   "cell_type": "markdown",
   "metadata": {},
   "source": [
    "Step 2: Compute Annual Returns and Covariance Matrix\n",
    "\n",
    "Calculate annualized returns, covariance, and daily returns for portfolio optimization."
   ]
  },
  {
   "cell_type": "code",
   "execution_count": 3,
   "metadata": {},
   "outputs": [
    {
     "name": "stdout",
     "output_type": "stream",
     "text": [
      "Annual Returns:\n",
      "TSLA   -0.086599\n",
      "BND    -0.172902\n",
      "SPY     0.000467\n",
      "dtype: float64\n",
      "\n",
      "Covariance Matrix:\n",
      "              TSLA           BND           SPY\n",
      "TSLA  3.390846e-07  1.097551e-07  1.294776e-08\n",
      "BND   1.097551e-07  7.950019e-08  7.665636e-09\n",
      "SPY   1.294776e-08  7.665636e-09  8.295264e-09\n"
     ]
    }
   ],
   "source": [
    "# Calculate daily returns\n",
    "daily_returns = df.pct_change().dropna()\n",
    "\n",
    "# Compute average daily return and annualized return\n",
    "average_daily_return = daily_returns.mean()\n",
    "annual_return = (1 + average_daily_return) ** 252 - 1  # Assuming 252 trading days/year\n",
    "\n",
    "# Compute the covariance matrix of daily returns\n",
    "cov_matrix = daily_returns.cov()\n",
    "\n",
    "# Display results\n",
    "print(\"Annual Returns:\")\n",
    "print(annual_return)\n",
    "print(\"\\nCovariance Matrix:\")\n",
    "print(cov_matrix)"
   ]
  },
  {
   "cell_type": "markdown",
   "metadata": {},
   "source": [
    "Step 3: Portfolio Weighted Return and Risk\n",
    "\n",
    "Define initial portfolio weights and compute weighted return and volatility."
   ]
  },
  {
   "cell_type": "code",
   "execution_count": 4,
   "metadata": {},
   "outputs": [
    {
     "name": "stdout",
     "output_type": "stream",
     "text": [
      "Portfolio Return: -0.08547663326136902\n",
      "Portfolio Volatility: 0.00434953152971157\n"
     ]
    }
   ],
   "source": [
    "# Initial weights (e.g., equal allocation)\n",
    "weights = np.array([0.33, 0.33, 0.34])  # TSLA, BND, SPY\n",
    "\n",
    "# Portfolio return\n",
    "portfolio_return = np.dot(weights, annual_return)\n",
    "\n",
    "# Portfolio volatility (risk)\n",
    "portfolio_volatility = np.sqrt(np.dot(weights.T, np.dot(cov_matrix * 252, weights)))  # Annualized volatility\n",
    "\n",
    "print(f\"Portfolio Return: {portfolio_return}\")\n",
    "print(f\"Portfolio Volatility: {portfolio_volatility}\")"
   ]
  },
  {
   "cell_type": "markdown",
   "metadata": {},
   "source": [
    "Step 4: Sharpe Ratio Optimization\n",
    "\n",
    "Optimize portfolio weights to maximize the Sharpe Ratio."
   ]
  },
  {
   "cell_type": "code",
   "execution_count": 5,
   "metadata": {},
   "outputs": [
    {
     "name": "stdout",
     "output_type": "stream",
     "text": [
      "Optimized Weights:\n",
      "[1.00000000e+00 3.17607052e-12 2.96929148e-13]\n"
     ]
    }
   ],
   "source": [
    "from scipy.optimize import minimize\n",
    "\n",
    "# Define risk-free rate (e.g., 3%)\n",
    "risk_free_rate = 0.03\n",
    "\n",
    "# Define the Sharpe Ratio function (negative for minimization)\n",
    "def sharpe_ratio(weights):\n",
    "    port_return = np.dot(weights, annual_return)\n",
    "    port_volatility = np.sqrt(np.dot(weights.T, np.dot(cov_matrix * 252, weights)))\n",
    "    return -(port_return - risk_free_rate) / port_volatility  # Negative for maximization\n",
    "\n",
    "# Constraints: Weights must sum to 1\n",
    "constraints = {'type': 'eq', 'fun': lambda x: np.sum(x) - 1}\n",
    "\n",
    "# Bounds: Weights must be between 0 and 1\n",
    "bounds = tuple((0, 1) for _ in range(len(weights)))\n",
    "\n",
    "# Perform optimization\n",
    "optimized_result = minimize(sharpe_ratio, weights, bounds=bounds, constraints=constraints)\n",
    "\n",
    "# Optimized weights\n",
    "optimized_weights = optimized_result.x\n",
    "\n",
    "print(\"Optimized Weights:\")\n",
    "print(optimized_weights)"
   ]
  },
  {
   "cell_type": "markdown",
   "metadata": {},
   "source": [
    "Step 5: Analyze Portfolio Risk and Return\n",
    "\n",
    "Evaluate the optimized portfolio for risk, return, and Sharpe Ratio."
   ]
  },
  {
   "cell_type": "code",
   "execution_count": 6,
   "metadata": {},
   "outputs": [
    {
     "name": "stdout",
     "output_type": "stream",
     "text": [
      "Optimized Portfolio Return: -0.08659924306701816\n",
      "Optimized Portfolio Volatility: 0.009243879706965316\n",
      "Optimized Sharpe Ratio: -12.61366945084324\n"
     ]
    }
   ],
   "source": [
    "# Compute optimized portfolio metrics\n",
    "optimized_portfolio_return = np.dot(optimized_weights, annual_return)\n",
    "optimized_portfolio_volatility = np.sqrt(np.dot(optimized_weights.T, np.dot(cov_matrix * 252, optimized_weights)))\n",
    "optimized_sharpe_ratio = (optimized_portfolio_return - risk_free_rate) / optimized_portfolio_volatility\n",
    "\n",
    "print(f\"Optimized Portfolio Return: {optimized_portfolio_return}\")\n",
    "print(f\"Optimized Portfolio Volatility: {optimized_portfolio_volatility}\")\n",
    "print(f\"Optimized Sharpe Ratio: {optimized_sharpe_ratio}\")"
   ]
  },
  {
   "cell_type": "markdown",
   "metadata": {},
   "source": [
    "Step 6: Value at Risk (VaR)\n",
    "\n",
    "Calculate VaR to measure Tesla's potential loss at a given confidence interval."
   ]
  },
  {
   "cell_type": "code",
   "execution_count": 9,
   "metadata": {},
   "outputs": [
    {
     "name": "stdout",
     "output_type": "stream",
     "text": [
      "Value at Risk (VaR) for TSLA: -0.3591557094279087\n",
      "Value at Risk (VaR) for BND: -0.0291169294284568\n",
      "Value at Risk (VaR) for SPY: -0.09057953685819843\n",
      "\n",
      "Summary of VaR Results:\n",
      "TSLA: -0.3591557094279087\n",
      "BND: -0.0291169294284568\n",
      "SPY: -0.09057953685819843\n"
     ]
    }
   ],
   "source": [
    "from scipy.stats import norm\n",
    "\n",
    "# Confidence level (e.g., 95%)\n",
    "confidence_level = 0.95\n",
    "\n",
    "# Initialize a dictionary to store VaR for each market\n",
    "var_results = {}\n",
    "\n",
    "# Loop through each market to calculate VaR\n",
    "for ticker in ['TSLA', 'BND', 'SPY']:\n",
    "    # Calculate the daily standard deviation for the ticker\n",
    "    std_dev = daily_returns[ticker].std()\n",
    "    \n",
    "    # Calculate VaR for the ticker\n",
    "    var = norm.ppf(1 - confidence_level) * std_dev * df[ticker].iloc[-1]\n",
    "    var_results[ticker] = var\n",
    "\n",
    "    print(f\"Value at Risk (VaR) for {ticker}: {var}\")\n",
    "\n",
    "# Example: Accessing the VaR results\n",
    "print(\"\\nSummary of VaR Results:\")\n",
    "for ticker, var in var_results.items():\n",
    "    print(f\"{ticker}: {var}\")"
   ]
  },
  {
   "cell_type": "markdown",
   "metadata": {},
   "source": [
    "Step 7: Visualize Portfolio Performance\n",
    "\n",
    "Plot cumulative returns for the optimized portfolio and individual assets."
   ]
  },
  {
   "cell_type": "code",
   "execution_count": 8,
   "metadata": {},
   "outputs": [
    {
     "data": {
      "image/png": "[encoded data removed]",
      "text/plain": [
       "<Figure size 1200x600 with 1 Axes>"
      ]
     },
     "metadata": {},
     "output_type": "display_data"
    }
   ],
   "source": [
    "# Calculate cumulative returns\n",
    "cumulative_returns = (1 + daily_returns).cumprod()\n",
    "portfolio_cumulative_returns = (1 + daily_returns.dot(optimized_weights)).cumprod()\n",
    "\n",
    "# Plot cumulative returns\n",
    "plt.figure(figsize=(12, 6))\n",
    "plt.plot(cumulative_returns, label=['TSLA', 'BND', 'SPY'])\n",
    "plt.plot(portfolio_cumulative_returns, label='Optimized Portfolio', color='black', linewidth=2)\n",
    "plt.title('Cumulative Returns Comparison')\n",
    "plt.xlabel('Date')\n",
    "plt.ylabel('Cumulative Returns')\n",
    "plt.legend()\n",
    "plt.show()"
   ]
  }
 ],
 "metadata": {
  "kernelspec": {
   "display_name": ".venv",
   "language": "python",
   "name": "python3"
  },
  "language_info": {
   "codemirror_mode": {
    "name": "ipython",
    "version": 3
   },
   "file_extension": ".py",
   "mimetype": "text/x-python",
   "name": "python",
   "nbconvert_exporter": "python",
   "pygments_lexer": "ipython3",
   "version": "3.12.7"
  }
 },
 "nbformat": 4,
 "nbformat_minor": 2
}
